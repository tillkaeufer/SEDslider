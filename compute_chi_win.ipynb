{
 "cells": [
  {
   "cell_type": "code",
   "execution_count": 1,
   "id": "operating-partner",
   "metadata": {},
   "outputs": [],
   "source": [
    "import numpy as np\n",
    "import matplotlib.pyplot as plt\n",
    "%matplotlib inline\n",
    "# jupyters notebook Befehl zum direkten Anzeigen von Matplotlib Diagrammen\n",
    "plt.rcParams['figure.figsize'] = (9, 6)\n",
    "SMALL_SIZE = 15\n",
    "MEDIUM_SIZE = 20\n",
    "BIGGER_SIZE = 25\n",
    "colormap={0:'red',1:'green'}\n",
    "plt.rc('font', size=SMALL_SIZE)          # controls default text sizes\n",
    "plt.rc('axes', titlesize=SMALL_SIZE)     # fontsize of the axes title\n",
    "plt.rc('axes', labelsize=MEDIUM_SIZE)    # fontsize of the x and y labels\n",
    "plt.rc('xtick', labelsize=SMALL_SIZE)    # fontsize of the tick labels\n",
    "plt.rc('ytick', labelsize=SMALL_SIZE)    # fontsize of the tick labels\n",
    "plt.rc('legend', fontsize=SMALL_SIZE)    # legend fontsize\n",
    "plt.rc('figure', titlesize=BIGGER_SIZE)  # fontsize of the figure title\n",
    "plt.rcParams['lines.linewidth'] = 1.5\n",
    "plt.rcParams['axes.linewidth'] = 1.2\n",
    "plt.rcParams['xtick.direction'] = 'in'\n",
    "plt.rcParams['ytick.direction'] = 'in'\n",
    "plt.rcParams['xtick.top'] = True\n",
    "plt.rcParams['ytick.right'] = True \n",
    "plt.rcParams['xtick.labelsize'] = plt.rcParams['ytick.labelsize'] = 12\n",
    "plt.rcParams['xtick.major.size'] = plt.rcParams['ytick.major.size'] = 7\n",
    "plt.rcParams['xtick.minor.size'] = plt.rcParams['ytick.minor.size'] = 4\n",
    "plt.rcParams['xtick.major.width'] = plt.rcParams['ytick.major.width'] = 1.6\n",
    "plt.rcParams['font.size'] = 12\n",
    "\n",
    "#loading observations\n",
    "from observation import load_observations"
   ]
  },
  {
   "cell_type": "code",
   "execution_count": 2,
   "id": "sought-pizza",
   "metadata": {},
   "outputs": [
    {
     "name": "stdout",
     "output_type": "stream",
     "text": [
      "E(B-V)=0.41113\n",
      "R_V=3.1\n",
      "Number of datapoints: 46\n"
     ]
    }
   ],
   "source": [
    "lam_obs,flux_obs,sig_obs=load_observations('Example_observation')"
   ]
  },
  {
   "cell_type": "code",
   "execution_count": 23,
   "id": "rotary-healing",
   "metadata": {},
   "outputs": [],
   "source": [
    "def chi_window(Fmod,Fphot,sphot,lphot):\n",
    "    #--------- compute chi in spectral windows --------\n",
    "    window = [0.3,1.0,3.0,8.0,15.0,30.0,100.0,300.0,1000.0,3000.0,1.E+99]\n",
    "    iwin = 0\n",
    "    Nchi = 0\n",
    "    chi2 = 0.0\n",
    "    Nwin = 0\n",
    "    chi2win = 0.0 \n",
    "    Ndat=len(Fphot)\n",
    "    for i in range(0,Ndat):\n",
    "        dchi =  np.log(Fmod[i]/Fphot[i])/(sphot[i]/Fphot[i]) #is this really log or log10\n",
    "        if lphot[i]>window[iwin]:     # window finished\n",
    "            if iwin>0:\n",
    "                print('%3d %3d %7.3f' % (iwin+1,Nwin,np.sqrt(chi2win/Nwin)))\n",
    "                chi2 += chi2win/Nwin \n",
    "                Nchi += 1\n",
    "            else:\n",
    "                print()\n",
    "\n",
    "            iwin += 1\n",
    "            Nwin = 0\n",
    "            chi2win = 0.0\n",
    "\n",
    "        chi2win += dchi**2            # add dchi to window-chi\n",
    "        Nwin += 1\n",
    "        print('%13.5f %10.6e %10.6e %6.2f%c %7.2f' % (lphot[i],Fphot[i],Fmod[i],sphot[i]/Fphot[i]*100.0,\"%\",dchi))\n",
    "\n",
    "    print(Nchi+1,Nwin,np.sqrt(chi2win/Nwin))\n",
    "    if Nwin>0:\n",
    "        chi2 += chi2win/Nwin          # last window\n",
    "        Nchi += 1\n",
    "\n",
    "    chi = np.sqrt(chi2/Nchi)        # total chi\n",
    "    print(' ==>  chi = %8.4f' % (chi))\n",
    "    return chi\n"
   ]
  },
  {
   "cell_type": "code",
   "execution_count": 24,
   "id": "painted-berry",
   "metadata": {},
   "outputs": [
    {
     "name": "stdout",
     "output_type": "stream",
     "text": [
      "\n",
      "      0.35160 8.616103e-10 9.477713e-10   0.16%   60.53\n",
      "      0.46770 1.816419e-09 1.998061e-09   0.24%   40.16\n",
      "      0.51890 1.106274e-09 1.216902e-09   1.32%    7.24\n",
      "      0.54930 9.467501e-10 1.041425e-09   1.66%    5.73\n",
      "      0.61680 1.949258e-09 2.144184e-09   0.38%   25.36\n",
      "      0.74960 2.287751e-09 2.516526e-09   0.49%   19.65\n",
      "      0.78750 1.943817e-09 2.138199e-09   9.13%    1.04\n",
      "      0.89700 2.143812e-09 2.358194e-09   0.59%   16.26\n",
      "  2   8  28.845\n",
      "      1.23930 2.767258e-09 3.043984e-09   1.76%    5.40\n",
      "      1.64950 2.871539e-09 3.158692e-09   1.74%    5.46\n",
      "      2.16390 2.138264e-09 2.352090e-09   1.94%    4.92\n",
      "  3   3   5.268\n",
      "      3.36820 1.265378e-09 1.391916e-09   4.36%    2.18\n",
      "      3.60000 9.717534e-10 1.068929e-09   0.86%   11.12\n",
      "      4.50000 7.230141e-10 7.953155e-10   0.92%   10.34\n",
      "      4.61790 1.093918e-09 1.203309e-09   2.36%    4.03\n",
      "      5.80000 5.106088e-10 5.616696e-10   1.01%    9.42\n",
      "      8.00000 3.543316e-10 3.897648e-10   1.06%    9.01\n",
      "  4   6   8.382\n",
      "      9.09950 3.711418e-10 4.082560e-10   4.67%    2.04\n",
      "     11.40990 2.677085e-10 2.944794e-10   6.87%    1.39\n",
      "     12.07300 2.369120e-10 2.606032e-10   1.27%    7.52\n",
      "  5   3   4.571\n",
      "     19.50500 1.632730e-10 1.796003e-10   6.59%    1.45\n",
      "     22.19430 1.432981e-10 1.576279e-10   1.82%    5.22\n",
      "     23.61080 1.549899e-10 1.704889e-10   8.92%    1.07\n",
      "     24.00000 1.184355e-10 1.302791e-10   2.11%    4.52\n",
      "  6   4   3.568\n",
      "     60.40930 3.435815e-11 3.779396e-11  10.96%    0.87\n",
      "     70.00000 1.761035e-11 1.937138e-11   9.73%    0.98\n",
      "  7   2   0.926\n",
      "    850.00000 3.104470e-14 3.414917e-14  21.59%    0.44\n",
      "     63.18000 2.046956e-11 2.251651e-11  11.59%    0.82\n",
      "     72.84000 1.320725e-11 1.452798e-11   9.35%    1.02\n",
      "     78.74000 1.336022e-11 1.469624e-11  11.40%    0.84\n",
      "     90.16000 1.966238e-11 2.162862e-11   6.76%    1.41\n",
      "    145.53000 4.125742e-12 4.538316e-12   9.99%    0.95\n",
      "    157.74000 2.283584e-12 2.511943e-12  24.97%    0.38\n",
      "    179.53000 3.343511e-12 3.677862e-12  19.98%    0.48\n",
      "      0.36370 8.953402e-10 9.848743e-10   1.66%    5.75\n",
      "      0.44340 7.421362e-10 8.163498e-10   2.19%    4.36\n",
      "      0.54930 1.077212e-09 1.184933e-09   3.19%    2.99\n",
      "      0.64730 1.714319e-09 1.885751e-09   4.05%    2.35\n",
      "      0.78750 2.150862e-09 2.365949e-09   5.13%    1.86\n",
      "      0.44200 1.110696e-09 1.221765e-09   2.14%    4.46\n",
      "      0.47500 1.207223e-09 1.327946e-09   2.46%    3.88\n",
      "      0.54000 1.390535e-09 1.529589e-09   3.07%    3.10\n",
      "      0.62200 1.491692e-09 1.640861e-09   3.81%    2.50\n",
      "      0.76300 2.080853e-09 2.288938e-09   4.97%    1.92\n",
      "  8  18   2.691\n",
      "    890.00000 2.964912e-14 3.261403e-14  21.59%    0.44\n",
      "  9   1   0.442\n",
      "   1300.00000 7.841942e-15 8.626136e-15  49.99%    0.19\n",
      "9 1 0.19064992124941216\n",
      " ==>  chi =  10.3924\n"
     ]
    },
    {
     "data": {
      "text/plain": [
       "10.392401729220552"
      ]
     },
     "execution_count": 24,
     "metadata": {},
     "output_type": "execute_result"
    }
   ],
   "source": [
    "fake_model=flux_obs*1.1\n",
    "chi_window(fake_model,flux_obs,sig_obs,lam_obs)"
   ]
  },
  {
   "cell_type": "code",
   "execution_count": null,
   "id": "bulgarian-tooth",
   "metadata": {},
   "outputs": [],
   "source": []
  }
 ],
 "metadata": {
  "kernelspec": {
   "display_name": "Python 3",
   "language": "python",
   "name": "python3"
  },
  "language_info": {
   "codemirror_mode": {
    "name": "ipython",
    "version": 3
   },
   "file_extension": ".py",
   "mimetype": "text/x-python",
   "name": "python",
   "nbconvert_exporter": "python",
   "pygments_lexer": "ipython3",
   "version": "3.8.5"
  }
 },
 "nbformat": 4,
 "nbformat_minor": 5
}
