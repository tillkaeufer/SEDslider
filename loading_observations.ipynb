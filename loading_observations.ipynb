{
 "cells": [
  {
   "cell_type": "code",
   "execution_count": 1,
   "id": "genetic-broadcasting",
   "metadata": {},
   "outputs": [],
   "source": [
    "from PyAstronomy import pyasl\n",
    "import numpy as np\n",
    "import matplotlib.pylab as plt\n",
    "%matplotlib inline\n",
    "plt.rcParams['figure.figsize'] = (9, 6)\n",
    "SMALL_SIZE = 15\n",
    "MEDIUM_SIZE = 20\n",
    "BIGGER_SIZE = 25\n",
    "colormap={0:'red',1:'green'}\n",
    "plt.rc('font', size=SMALL_SIZE)          # controls default text sizes\n",
    "plt.rc('axes', titlesize=SMALL_SIZE)     # fontsize of the axes title\n",
    "plt.rc('axes', labelsize=MEDIUM_SIZE)    # fontsize of the x and y labels\n",
    "plt.rc('xtick', labelsize=SMALL_SIZE)    # fontsize of the tick labels\n",
    "plt.rc('ytick', labelsize=SMALL_SIZE)    # fontsize of the tick labels\n",
    "plt.rc('legend', fontsize=SMALL_SIZE)    # legend fontsize\n",
    "plt.rc('figure', titlesize=BIGGER_SIZE)  # fontsize of the figure title\n",
    "plt.rcParams['lines.linewidth'] = 1.5\n",
    "plt.rcParams['axes.linewidth'] = 1.2\n",
    "plt.rcParams['xtick.direction'] = 'in'\n",
    "plt.rcParams['ytick.direction'] = 'in'\n",
    "plt.rcParams['xtick.top'] = True\n",
    "plt.rcParams['ytick.right'] = True \n",
    "plt.rcParams['xtick.labelsize'] = plt.rcParams['ytick.labelsize'] = 12\n",
    "plt.rcParams['xtick.major.size'] = plt.rcParams['ytick.major.size'] = 7\n",
    "plt.rcParams['xtick.minor.size'] = plt.rcParams['ytick.minor.size'] = 4\n",
    "plt.rcParams['xtick.major.width'] = plt.rcParams['ytick.major.width'] = 1.6\n",
    "plt.rcParams['font.size'] = 12"
   ]
  },
  {
   "cell_type": "code",
   "execution_count": 2,
   "id": "foreign-level",
   "metadata": {},
   "outputs": [
    {
     "name": "stdout",
     "output_type": "stream",
     "text": [
      "E(B-V)=0.41113\n",
      "R_V=3.1\n"
     ]
    }
   ],
   "source": [
    "folder='Example_observation'\n",
    "\n",
    "with open(f'{folder}/extinct.dat') as f:\n",
    "    lines=f.readlines()\n",
    "    for i in range(len(lines)):\n",
    "        if 'E(B-V)' in lines[i]:\n",
    "            e_bv=float(lines[i+1])\n",
    "        if 'R_V' in lines[i]:\n",
    "            R_V=float(lines[i+1])\n",
    "print(f'E(B-V)={e_bv}')\n",
    "print(f'R_V={R_V}')"
   ]
  },
  {
   "cell_type": "code",
   "execution_count": 3,
   "id": "personalized-helena",
   "metadata": {},
   "outputs": [],
   "source": [
    "data_array=[]\n",
    "with open(f'{folder}/SEDobs.dat') as f:\n",
    "    lines=f.readlines()\n",
    "    header=lines[1].split()\n",
    "    if header[0]=='lam[mic]' and header[1]=='flux[Jy]' and header[2]=='sigma[Jy]' and header[3]=='rem':\n",
    "        for i in range(2,len(lines)):\n",
    "            sp_line=lines[i].split()\n",
    "            if sp_line==[]:\n",
    "                print('Empty line')\n",
    "            elif sp_line[3]=='ok':\n",
    "                lam=float(sp_line[0])\n",
    "                flux=float(sp_line[1])\n",
    "                flux_sig=float(sp_line[2])\n",
    "                data_array.append([lam,flux,flux_sig])\n",
    "    else:\n",
    "        print('Different Header')\n",
    "        print(header)\n",
    "data_array=np.asarray(data_array)\n",
    "nu=2.99792458*10**14/data_array[:,0]\n",
    "data_array[:,1]=data_array[:,1]*10**(-23)*nu\n",
    "\n",
    "data_array[:,2]=data_array[:,2]*10**(-23)*nu"
   ]
  },
  {
   "cell_type": "code",
   "execution_count": 8,
   "id": "unable-ground",
   "metadata": {},
   "outputs": [
    {
     "data": {
      "image/png": "[encoded data removed]",
      "text/plain": [
       "<Figure size 648x432 with 1 Axes>"
      ]
     },
     "metadata": {
      "needs_background": "light"
     },
     "output_type": "display_data"
    }
   ],
   "source": [
    "# Deredden the spectrum assuming ebv=0.1\n",
    "fluxUnred = pyasl.unred(data_array[:,0]*10**4, data_array[:,1], ebv=e_bv, R_V=R_V)\n",
    "\n",
    "# Plot the result\n",
    "plt.figure()\n",
    "plt.scatter(data_array[:,0], data_array[:,1],marker='+',label='Observation')\n",
    "plt.scatter(data_array[:,0], fluxUnred,marker='+',label='Dereddened')\n",
    "plt.xscale('log')\n",
    "plt.yscale('log')\n",
    "plt.xlabel(r'$ \\lambda \\, [\\mu m]$')\n",
    "plt.ylabel(r'$ \\nu F_\\nu [erg/cm^2/s]$')\n",
    "plt.legend()\n",
    "plt.show()"
   ]
  },
  {
   "cell_type": "code",
   "execution_count": 2,
   "id": "willing-honey",
   "metadata": {},
   "outputs": [],
   "source": []
  },
  {
   "cell_type": "code",
   "execution_count": null,
   "id": "interim-thickness",
   "metadata": {},
   "outputs": [],
   "source": []
  }
 ],
 "metadata": {
  "kernelspec": {
   "display_name": "Python 3",
   "language": "python",
   "name": "python3"
  },
  "language_info": {
   "codemirror_mode": {
    "name": "ipython",
    "version": 3
   },
   "file_extension": ".py",
   "mimetype": "text/x-python",
   "name": "python",
   "nbconvert_exporter": "python",
   "pygments_lexer": "ipython3",
   "version": "3.8.5"
  }
 },
 "nbformat": 4,
 "nbformat_minor": 5
}
