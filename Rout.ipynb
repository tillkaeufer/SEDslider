{
 "cells": [
  {
   "cell_type": "code",
   "execution_count": 1,
   "id": "scientific-mailing",
   "metadata": {},
   "outputs": [],
   "source": [
    "import numpy as np\n",
    "def adjust_rout(R1in,Rout,Rtaper,gtaper,e1psilon,M1disk):\n",
    "    Np=2000\n",
    "    \n",
    "    #Constants\n",
    "    muH=2.329971445420226E-024\n",
    "    Msun=1.988922500000000E+033\n",
    "    AU=14959787000000.0\n",
    "    \n",
    "    #Convertion\n",
    "    R1in=R1in*AU\n",
    "    Rout=Rout*AU\n",
    "    Rtaper=Rtaper*AU\n",
    "    M1disk=M1disk*Msun\n",
    "    \n",
    "    if gtaper==None:\n",
    "        gtaper=min(2,e1psilon)\n",
    "    rtmp=np.zeros(Np+1)\n",
    "    Ntmp=np.zeros(Np+1)\n",
    "    mass=np.zeros(Np+1)\n",
    "    for i in range(Np+1):\n",
    "        rtmp[i] = R1in+(2*Rout-R1in)*float(i)/float(Np)\n",
    "        Ntmp[i] = rtmp[i]**(-e1psilon)* np.exp(-(rtmp[i]/Rtaper)**(2.0-gtaper))\n",
    "    mass[0] = 0.0\n",
    "    for i in range(1,Np+1):\n",
    "        dr = rtmp[i]-rtmp[i-1] \n",
    "        f1 = 4.0*np.pi*rtmp[i-1]* Ntmp[i-1]\n",
    "        f2 = 4.0*np.pi*rtmp[i]  * Ntmp[i]\n",
    "        mass[i] = mass[i-1] + muH*0.5*(f1+f2)*dr\n",
    "    fac  = M1disk/mass[Np]\n",
    "    Ntmp = fac * Ntmp\n",
    "    mass = fac * mass\n",
    "\n",
    "    for i in range(1,Np-1):\n",
    "        if ((Ntmp[i]<10**20) and (mass[i] > 0.95*M1disk)):\n",
    "            break\n",
    "    Rout  = rtmp[i]\n",
    "    return Rout/AU"
   ]
  },
  {
   "cell_type": "code",
   "execution_count": 2,
   "id": "growing-division",
   "metadata": {},
   "outputs": [
    {
     "data": {
      "text/plain": [
       "1089.615330313911"
      ]
     },
     "execution_count": 2,
     "metadata": {},
     "output_type": "execute_result"
    }
   ],
   "source": [
    "\n",
    "Rin=0.414490354000000 \n",
    "Rtaper=257.6679040\n",
    "epsi=0.6067170420\n",
    "mdisk=6.463453160000000E-002\n",
    "adjust_rout(R1in=Rin,Rout=4*Rtaper,Rtaper=Rtaper,gtaper=None,e1psilon=epsi ,M1disk=mdisk)"
   ]
  },
  {
   "cell_type": "code",
   "execution_count": null,
   "id": "circular-tackle",
   "metadata": {},
   "outputs": [],
   "source": []
  }
 ],
 "metadata": {
  "kernelspec": {
   "display_name": "Python 3",
   "language": "python",
   "name": "python3"
  },
  "language_info": {
   "codemirror_mode": {
    "name": "ipython",
    "version": 3
   },
   "file_extension": ".py",
   "mimetype": "text/x-python",
   "name": "python",
   "nbconvert_exporter": "python",
   "pygments_lexer": "ipython3",
   "version": "3.8.5"
  }
 },
 "nbformat": 4,
 "nbformat_minor": 5
}
