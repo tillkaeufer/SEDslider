{
 "cells": [
  {
   "cell_type": "code",
   "execution_count": 1,
   "id": "affecting-seller",
   "metadata": {},
   "outputs": [],
   "source": [
    "import numpy as np\n",
    "from tensorflow.keras.models import load_model\n",
    "import joblib\n",
    "import pickle \n",
    "\n",
    "\n",
    "from scipy import interpolate\n",
    "\n",
    "import matplotlib.pyplot as plt\n",
    "%matplotlib inline\n",
    "# jupyters notebook Befehl zum direkten Anzeigen von Matplotlib Diagrammen\n",
    "plt.rcParams['figure.figsize'] = (9, 6)\n",
    "SMALL_SIZE = 15\n",
    "MEDIUM_SIZE = 20\n",
    "BIGGER_SIZE = 25\n",
    "colormap={0:'red',1:'green'}\n",
    "plt.rc('font', size=SMALL_SIZE)          # controls default text sizes\n",
    "plt.rc('axes', titlesize=SMALL_SIZE)     # fontsize of the axes title\n",
    "plt.rc('axes', labelsize=MEDIUM_SIZE)    # fontsize of the x and y labels\n",
    "plt.rc('xtick', labelsize=SMALL_SIZE)    # fontsize of the tick labels\n",
    "plt.rc('ytick', labelsize=SMALL_SIZE)    # fontsize of the tick labels\n",
    "plt.rc('legend', fontsize=SMALL_SIZE)    # legend fontsize\n",
    "plt.rc('figure', titlesize=BIGGER_SIZE)  # fontsize of the figure title\n",
    "plt.rcParams['lines.linewidth'] = 1.5\n",
    "plt.rcParams['axes.linewidth'] = 1.2\n",
    "plt.rcParams['xtick.direction'] = 'in'\n",
    "plt.rcParams['ytick.direction'] = 'in'\n",
    "plt.rcParams['xtick.top'] = True\n",
    "plt.rcParams['ytick.right'] = True \n",
    "plt.rcParams['xtick.labelsize'] = plt.rcParams['ytick.labelsize'] = 12\n",
    "plt.rcParams['xtick.major.size'] = plt.rcParams['ytick.major.size'] = 7\n",
    "plt.rcParams['xtick.minor.size'] = plt.rcParams['ytick.minor.size'] = 4\n",
    "plt.rcParams['xtick.major.width'] = plt.rcParams['ytick.major.width'] = 1.6\n",
    "plt.rcParams['font.size'] = 12\n",
    "\n",
    "path_data='./data'\n",
    "\n",
    "star_name='star_m-only_3'"
   ]
  },
  {
   "cell_type": "code",
   "execution_count": 2,
   "id": "monetary-apparatus",
   "metadata": {},
   "outputs": [],
   "source": [
    "Teff=3.591\n",
    "Lstar=0.602\n",
    "\n",
    "\n",
    "model_star=load_model(f'{path_data}/StarNets/{star_name}.h5')\n",
    "input_scaler=joblib.load(f'{path_data}/scaler/{star_name}_input_scaler.save')\n",
    "output_scaler=joblib.load(f'{path_data}/scaler/{star_name}_output_scaler.save')"
   ]
  },
  {
   "cell_type": "code",
   "execution_count": null,
   "id": "automated-provincial",
   "metadata": {},
   "outputs": [],
   "source": []
  },
  {
   "cell_type": "code",
   "execution_count": null,
   "id": "virgin-recognition",
   "metadata": {},
   "outputs": [],
   "source": []
  },
  {
   "cell_type": "code",
   "execution_count": 3,
   "id": "stainless-prior",
   "metadata": {},
   "outputs": [],
   "source": [
    "def calculate_mstar(Teff,Lstar):\n",
    "    trans_star=input_scaler.transform(np.expand_dims([Teff,Lstar],axis=0))\n",
    "    pred_star=model_star.predict(trans_star)\n",
    "    log_mass=output_scaler.inverse_transform(pred_star)[0,0]\n",
    "    \n",
    "    return log_mass"
   ]
  },
  {
   "cell_type": "code",
   "execution_count": 6,
   "id": "isolated-identification",
   "metadata": {},
   "outputs": [
    {
     "data": {
      "text/plain": [
       "0.6036795539136814"
      ]
     },
     "execution_count": 6,
     "metadata": {},
     "output_type": "execute_result"
    }
   ],
   "source": [
    "10**calculate_mstar(Teff,Lstar)"
   ]
  },
  {
   "cell_type": "code",
   "execution_count": null,
   "id": "domestic-saskatchewan",
   "metadata": {},
   "outputs": [],
   "source": []
  }
 ],
 "metadata": {
  "kernelspec": {
   "display_name": "Python 3",
   "language": "python",
   "name": "python3"
  },
  "language_info": {
   "codemirror_mode": {
    "name": "ipython",
    "version": 3
   },
   "file_extension": ".py",
   "mimetype": "text/x-python",
   "name": "python",
   "nbconvert_exporter": "python",
   "pygments_lexer": "ipython3",
   "version": "3.8.5"
  }
 },
 "nbformat": 4,
 "nbformat_minor": 5
}
