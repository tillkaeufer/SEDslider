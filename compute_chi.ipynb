{
 "cells": [
  {
   "cell_type": "code",
   "execution_count": 7,
   "id": "operating-partner",
   "metadata": {},
   "outputs": [],
   "source": [
    "import numpy as np\n",
    "import matplotlib.pyplot as plt\n",
    "%matplotlib inline\n",
    "# jupyters notebook Befehl zum direkten Anzeigen von Matplotlib Diagrammen\n",
    "plt.rcParams['figure.figsize'] = (9, 6)\n",
    "SMALL_SIZE = 15\n",
    "MEDIUM_SIZE = 20\n",
    "BIGGER_SIZE = 25\n",
    "colormap={0:'red',1:'green'}\n",
    "plt.rc('font', size=SMALL_SIZE)          # controls default text sizes\n",
    "plt.rc('axes', titlesize=SMALL_SIZE)     # fontsize of the axes title\n",
    "plt.rc('axes', labelsize=MEDIUM_SIZE)    # fontsize of the x and y labels\n",
    "plt.rc('xtick', labelsize=SMALL_SIZE)    # fontsize of the tick labels\n",
    "plt.rc('ytick', labelsize=SMALL_SIZE)    # fontsize of the tick labels\n",
    "plt.rc('legend', fontsize=SMALL_SIZE)    # legend fontsize\n",
    "plt.rc('figure', titlesize=BIGGER_SIZE)  # fontsize of the figure title\n",
    "plt.rcParams['lines.linewidth'] = 1.5\n",
    "plt.rcParams['axes.linewidth'] = 1.2\n",
    "plt.rcParams['xtick.direction'] = 'in'\n",
    "plt.rcParams['ytick.direction'] = 'in'\n",
    "plt.rcParams['xtick.top'] = True\n",
    "plt.rcParams['ytick.right'] = True \n",
    "plt.rcParams['xtick.labelsize'] = plt.rcParams['ytick.labelsize'] = 12\n",
    "plt.rcParams['xtick.major.size'] = plt.rcParams['ytick.major.size'] = 7\n",
    "plt.rcParams['xtick.minor.size'] = plt.rcParams['ytick.minor.size'] = 4\n",
    "plt.rcParams['xtick.major.width'] = plt.rcParams['ytick.major.width'] = 1.6\n",
    "plt.rcParams['font.size'] = 12\n",
    "\n",
    "#loading observations\n",
    "from observation import load_observations"
   ]
  },
  {
   "cell_type": "code",
   "execution_count": 9,
   "id": "sought-pizza",
   "metadata": {},
   "outputs": [
    {
     "name": "stdout",
     "output_type": "stream",
     "text": [
      "E(B-V)=0.22748\n",
      "R_V=3.1\n",
      "Number of datapoints: 80\n"
     ]
    }
   ],
   "source": [
    "lam_obs,flux_obs,sig_obs,name_array,e_bv,R_V=load_observations('Example_observation',data_file='SEDobs.dat')"
   ]
  },
  {
   "cell_type": "code",
   "execution_count": 10,
   "id": "rotary-healing",
   "metadata": {},
   "outputs": [],
   "source": [
    "def chi_window(Fmod,Fphot,sphot,lphot):\n",
    "    #--------- compute chi in spectral windows --------\n",
    "    window = [0.3,1.0,3.0,8.0,15.0,30.0,100.0,300.0,1000.0,3000.0,1.E+99]\n",
    "    iwin = 0\n",
    "    Nchi = 0\n",
    "    chi2 = 0.0\n",
    "    Nwin = 0\n",
    "    chi2win = 0.0 \n",
    "    Ndat=len(Fphot)\n",
    "    for i in range(0,Ndat):\n",
    "        dchi =  np.log(Fmod[i]/Fphot[i])/(sphot[i]/Fphot[i]) #is this really log or log10\n",
    "        if lphot[i]>window[iwin]:     # window finished\n",
    "            if iwin>0:\n",
    "                print('%3d %3d %7.3f' % (iwin+1,Nwin,np.sqrt(chi2win/Nwin)))\n",
    "                chi2 += chi2win/Nwin \n",
    "                Nchi += 1\n",
    "            else:\n",
    "                print()\n",
    "\n",
    "            iwin += 1\n",
    "            Nwin = 0\n",
    "            chi2win = 0.0\n",
    "\n",
    "        chi2win += dchi**2            # add dchi to window-chi\n",
    "        Nwin += 1\n",
    "        print('%13.5f %10.6e %10.6e %6.2f%c %7.2f' % (lphot[i],Fphot[i],Fmod[i],sphot[i]/Fphot[i]*100.0,\"%\",dchi))\n",
    "\n",
    "    print(Nchi+1,Nwin,np.sqrt(chi2win/Nwin))\n",
    "    if Nwin>0:\n",
    "        chi2 += chi2win/Nwin          # last window\n",
    "        Nchi += 1\n",
    "\n",
    "    chi = np.sqrt(chi2/Nchi)        # total chi\n",
    "    print(' ==>  chi = %8.4f' % (chi))\n",
    "    return chi\n"
   ]
  },
  {
   "cell_type": "code",
   "execution_count": 11,
   "id": "painted-berry",
   "metadata": {},
   "outputs": [
    {
     "name": "stdout",
     "output_type": "stream",
     "text": [
      "      0.15300 1.120793e-12 1.232872e-12   4.72%    2.02\n",
      "      0.23100 2.699430e-12 2.969373e-12   1.44%    6.61\n",
      "\n",
      "      0.35160 3.504400e-11 3.854840e-11   1.00%    9.53\n",
      "      0.35200 1.780018e-11 1.958019e-11   0.48%   19.92\n",
      "      0.44340 9.600931e-11 1.056102e-10  30.00%    0.32\n",
      "      0.44400 8.980270e-11 9.878297e-11  42.11%    0.23\n",
      "      0.44400 9.655478e-11 1.062103e-10   8.39%    1.14\n",
      "      0.44400 1.033069e-10 1.136375e-10   9.15%    1.04\n",
      "      0.46770 1.153788e-10 1.269166e-10   1.00%    9.53\n",
      "      0.48200 1.387007e-10 1.525707e-10   6.28%    1.52\n",
      "      0.54930 2.308615e-10 2.539476e-10  18.13%    0.53\n",
      "      0.55400 2.251149e-10 2.476264e-10  18.27%    0.52\n",
      "      0.55400 2.310675e-10 2.541742e-10   1.87%    5.09\n",
      "      0.55400 2.310675e-10 2.541742e-10   1.64%    5.81\n",
      "      0.61680 3.353709e-10 3.689080e-10   1.00%    9.53\n",
      "      0.62300 4.056582e-10 4.462240e-10   0.71%   13.39\n",
      "      0.62500 3.031501e-10 3.334651e-10   0.16%   60.24\n",
      "      0.62500 3.472796e-10 3.820075e-10   2.76%    3.45\n",
      "      0.62500 3.525559e-10 3.878115e-10   2.86%    3.34\n",
      "      0.67300 3.434472e-10 3.777920e-10   0.78%   12.25\n",
      "      0.67300 3.688383e-10 4.057221e-10   0.60%   15.78\n",
      "      0.74960 5.439137e-10 5.983051e-10   1.00%    9.53\n",
      "      0.76300 5.854401e-10 6.439841e-10   2.68%    3.55\n",
      "      0.76300 5.972274e-10 6.569502e-10   2.63%    3.62\n",
      "      0.78750 5.900677e-10 6.490745e-10  14.84%    0.64\n",
      "  2  23  14.863\n",
      "      1.23900 8.444517e-10 9.288969e-10   2.01%    4.75\n",
      "      1.23930 8.345711e-10 9.180282e-10   1.94%    4.92\n",
      "      1.25000 8.538089e-10 9.391898e-10   1.97%    4.85\n",
      "      1.63000 8.809852e-10 9.690837e-10   2.51%    3.80\n",
      "      1.64900 8.781065e-10 9.659171e-10   2.48%    3.84\n",
      "      1.64900 8.781065e-10 9.659171e-10   2.69%    3.54\n",
      "      1.64950 8.687529e-10 9.556282e-10   2.49%    3.83\n",
      "      2.16390 5.763375e-10 6.339712e-10   1.93%    4.93\n",
      "      2.16400 5.818523e-10 6.400375e-10   1.90%    5.00\n",
      "      2.19000 5.475661e-10 6.023227e-10   0.75%   12.71\n",
      "      2.19000 5.557796e-10 6.113576e-10   1.97%    4.84\n",
      "  3  11   5.728\n",
      "      3.35000 2.246206e-10 2.470827e-10   2.39%    3.99\n",
      "      3.36820 2.260771e-10 2.486848e-10   2.30%    4.15\n",
      "      3.55000 2.432119e-10 2.675331e-10   0.35%   27.45\n",
      "      3.55000 2.474343e-10 2.721778e-10   1.71%    5.59\n",
      "      3.55690 2.427401e-10 2.670141e-10   1.00%    9.53\n",
      "      3.60000 2.414995e-10 2.656494e-10   0.79%   12.02\n",
      "      4.49300 1.641419e-10 1.805561e-10   0.41%   23.45\n",
      "      4.49300 1.654764e-10 1.820240e-10   2.02%    4.73\n",
      "      4.50000 1.665514e-10 1.832065e-10   0.80%   11.91\n",
      "      4.50200 1.638137e-10 1.801951e-10   1.00%    9.53\n",
      "      4.60000 1.362101e-10 1.498311e-10   1.91%    4.98\n",
      "      4.60000 1.446824e-10 1.591507e-10   1.80%    5.29\n",
      "      4.61790 1.363313e-10 1.499644e-10   1.85%    5.16\n",
      "      5.73100 1.166528e-10 1.283181e-10   0.45%   21.25\n",
      "      5.73100 1.281611e-10 1.409773e-10   2.86%    3.34\n",
      "      5.74500 1.163685e-10 1.280054e-10   1.00%    9.53\n",
      "      5.80000 1.188832e-10 1.307715e-10   1.22%    7.83\n",
      "      7.87200 9.444681e-11 1.038915e-10   4.44%    2.15\n",
      "      7.87200 9.711265e-11 1.068239e-10   2.75%    3.47\n",
      "      7.91580 9.392421e-11 1.033166e-10   1.00%    9.53\n",
      "      8.00000 9.743255e-11 1.071758e-10   1.19%    7.99\n",
      "  4  21  11.389\n",
      "      8.61000 9.227062e-11 1.014977e-10   5.66%    1.68\n",
      "      9.09950 8.730700e-11 9.603770e-11   5.66%    1.68\n",
      "     12.07300 6.754208e-11 7.429628e-11   1.47%    6.46\n",
      "  5   3   3.978\n",
      "     18.39000 6.797904e-11 7.477694e-11  11.03%    0.86\n",
      "     19.50500 6.409303e-11 7.050233e-11  10.94%    0.87\n",
      "     22.09100 6.853252e-11 7.538577e-11   1.98%    4.81\n",
      "     22.09100 6.880394e-11 7.568433e-11   1.97%    4.83\n",
      "     22.19430 6.902400e-11 7.592640e-11   1.93%    4.93\n",
      "  6   5   3.803\n",
      "     60.40930 3.717053e-11 4.088758e-11  13.00%    0.73\n",
      "     69.99900 2.997967e-11 3.297764e-11  14.29%    0.67\n",
      "     70.00000 2.955097e-11 3.250607e-11  10.14%    0.94\n",
      "     87.89710 2.595558e-11 2.855114e-11  14.98%    0.64\n",
      "     90.00100 2.534884e-11 2.788372e-11  14.98%    0.64\n",
      "  7   5   0.731\n",
      "    100.00100 2.398316e-11 2.638147e-11  25.00%    0.38\n",
      "    160.00000 1.498962e-11 1.648859e-11  25.00%    0.38\n",
      "    249.99400 7.195192e-12 7.914711e-12  16.67%    0.57\n",
      "  8   3   0.454\n",
      "    345.00000 5.344126e-12 5.878539e-12  10.41%    0.92\n",
      "    362.99800 4.129395e-12 4.542335e-12  20.00%    0.48\n",
      "    516.99900 2.319482e-12 2.551430e-12  20.00%    0.48\n",
      "    850.00000 7.089210e-13 7.798131e-13   3.48%    2.74\n",
      "  9   4   1.482\n",
      "   1300.00000 1.937120e-13 2.130833e-13  15.48%    0.62\n",
      "   1330.00000 2.028671e-13 2.231538e-13   2.22%    4.29\n",
      "   2700.00000 1.787651e-14 1.966416e-14  15.53%    0.61\n",
      "9 3 2.526603824385604\n",
      " ==>  chi =   6.8560\n"
     ]
    },
    {
     "data": {
      "text/plain": [
       "6.855975540491967"
      ]
     },
     "execution_count": 11,
     "metadata": {},
     "output_type": "execute_result"
    }
   ],
   "source": [
    "fake_model=flux_obs*1.1\n",
    "chi_window(fake_model,flux_obs,sig_obs,lam_obs)"
   ]
  },
  {
   "cell_type": "code",
   "execution_count": 24,
   "id": "bulgarian-tooth",
   "metadata": {},
   "outputs": [],
   "source": [
    "def chi_squared(Fmod,Fphot,sphot,lphot):\n",
    "    #--------- compute chi properly --------\n",
    "\n",
    "    Ndat=len(Fphot)\n",
    "    chi2=0.0\n",
    "    for i in range(0,Ndat):\n",
    "        diff=Fphot[i]-Fmod[i]\n",
    "        chi2+=(diff/sphot[i])**2\n",
    "\n",
    "    chi = np.sqrt(chi2)        # total chi\n",
    "\n",
    "    print(' ==>  chi^2 = %8.4f' % (chi2))\n",
    "    print(' ==>  chi = %8.4f' % (chi))\n",
    "    return chi2\n"
   ]
  },
  {
   "cell_type": "code",
   "execution_count": 25,
   "id": "bottom-spectacular",
   "metadata": {},
   "outputs": [
    {
     "name": "stdout",
     "output_type": "stream",
     "text": [
      " ==>  chi^2 = 9207.9878\n",
      " ==>  chi =  95.9583\n"
     ]
    },
    {
     "data": {
      "text/plain": [
       "9207.98775579136"
      ]
     },
     "execution_count": 25,
     "metadata": {},
     "output_type": "execute_result"
    }
   ],
   "source": [
    "fake_model=flux_obs*1.1\n",
    "chi_squared(fake_model,flux_obs,sig_obs,lam_obs)"
   ]
  },
  {
   "cell_type": "code",
   "execution_count": 26,
   "id": "ecological-blind",
   "metadata": {},
   "outputs": [],
   "source": [
    "def chi_squared_reduced(Fmod,Fphot,sphot,lphot):\n",
    "    #--------- compute chi properly --------\n",
    "\n",
    "    Ndat=len(Fphot)\n",
    "    chi2=0.0\n",
    "    for i in range(0,Ndat):\n",
    "        diff=Fphot[i]-Fmod[i]\n",
    "        chi2+=(diff/sphot[i])**2\n",
    "    chi2=chi2/Ndat\n",
    "    chi = np.sqrt(chi2)        # total chi\n",
    "\n",
    "    print(' ==>  chi^2 = %8.4f' % (chi2))\n",
    "    print(' ==>  chi = %8.4f' % (chi))\n",
    "    return chi2\n"
   ]
  },
  {
   "cell_type": "code",
   "execution_count": 27,
   "id": "close-private",
   "metadata": {},
   "outputs": [
    {
     "name": "stdout",
     "output_type": "stream",
     "text": [
      " ==>  chi^2 = 115.0998\n",
      " ==>  chi =  10.7285\n"
     ]
    },
    {
     "data": {
      "text/plain": [
       "115.09984694739201"
      ]
     },
     "execution_count": 27,
     "metadata": {},
     "output_type": "execute_result"
    }
   ],
   "source": [
    "fake_model=flux_obs*1.1\n",
    "chi_squared_reduced(fake_model,flux_obs,sig_obs,lam_obs)"
   ]
  },
  {
   "cell_type": "code",
   "execution_count": null,
   "id": "extreme-phone",
   "metadata": {},
   "outputs": [],
   "source": []
  }
 ],
 "metadata": {
  "kernelspec": {
   "display_name": "Python 3",
   "language": "python",
   "name": "python3"
  },
  "language_info": {
   "codemirror_mode": {
    "name": "ipython",
    "version": 3
   },
   "file_extension": ".py",
   "mimetype": "text/x-python",
   "name": "python",
   "nbconvert_exporter": "python",
   "pygments_lexer": "ipython3",
   "version": "3.8.5"
  }
 },
 "nbformat": 4,
 "nbformat_minor": 5
}
